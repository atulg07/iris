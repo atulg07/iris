{
 "cells": [
  {
   "cell_type": "markdown",
   "id": "64845764-d38c-4ca5-ad67-9db2fb0e1b70",
   "metadata": {},
   "source": [
    "## iris project -classification"
   ]
  },
  {
   "cell_type": "code",
   "execution_count": null,
   "id": "d4374f1a-1617-4795-829c-8ab51cba7e3c",
   "metadata": {},
   "outputs": [],
   "source": []
  }
 ],
 "metadata": {
  "kernelspec": {
   "display_name": "Python 3 (ipykernel)",
   "language": "python",
   "name": "python3"
  },
  "language_info": {
   "codemirror_mode": {
    "name": "ipython",
    "version": 3
   },
   "file_extension": ".py",
   "mimetype": "text/x-python",
   "name": "python",
   "nbconvert_exporter": "python",
   "pygments_lexer": "ipython3",
   "version": "3.9.7"
  }
 },
 "nbformat": 4,
 "nbformat_minor": 5
}
